{
 "cells": [
  {
   "cell_type": "markdown",
   "metadata": {},
   "source": [
    "## This notebook is show how to use Q2-DSFDR in command line interface"
   ]
  },
  {
   "cell_type": "markdown",
   "metadata": {},
   "source": [
    "## convert feature table to qiime2 qza artifact"
   ]
  },
  {
   "cell_type": "code",
   "execution_count": null,
   "metadata": {},
   "outputs": [],
   "source": [
    "qiime tools import \\\n",
    "--input-path data/deblur-feature-table.biom \\\n",
    "--type 'FeatureTable[Frequency]' \\\n",
    "--source-format BIOMV210Format \\\n",
    "--output-path data/dblr_haddad.qza"
   ]
  },
  {
   "cell_type": "markdown",
   "metadata": {},
   "source": [
    "## select interested category to compare using DS-FDR"
   ]
  },
  {
   "cell_type": "code",
   "execution_count": 1,
   "metadata": {},
   "outputs": [
    {
     "ename": "SyntaxError",
     "evalue": "invalid syntax (<ipython-input-1-0e420a6ea08a>, line 1)",
     "output_type": "error",
     "traceback": [
      "\u001b[0;36m  File \u001b[0;32m\"<ipython-input-1-0e420a6ea08a>\"\u001b[0;36m, line \u001b[0;32m1\u001b[0m\n\u001b[0;31m    qiime dsfdr permutation-fdr --i-table data/dblr_haddad.qza --m-metadata-file data/metadata_rare2k.txt --m-metadata-column 'exposure_type' --o-reject demo/haddad.dsfdr --verbose\u001b[0m\n\u001b[0m              ^\u001b[0m\n\u001b[0;31mSyntaxError\u001b[0m\u001b[0;31m:\u001b[0m invalid syntax\n"
     ]
    }
   ],
   "source": [
    "qiime dsfdr permutation-fdr \\\n",
    "--i-table data/dblr_haddad.qza \\\n",
    "--m-metadata-file data/metadata_rare2k.txt \\\n",
    "--m-metadata-column 'exposure_type' \\\n",
    "--o-reject demo/haddad.dsfdr --verbose"
   ]
  },
  {
   "cell_type": "markdown",
   "metadata": {},
   "source": [
    "## output the list of differential abundant taxa (True indicates statistical signifidant)"
   ]
  },
  {
   "cell_type": "code",
   "execution_count": null,
   "metadata": {},
   "outputs": [],
   "source": [
    "qiime tools export demo/haddad.dsfdr.qza --output-dir demo/haddad.dsfdr.txt"
   ]
  }
 ],
 "metadata": {
  "kernelspec": {
   "display_name": "Python 3",
   "language": "python",
   "name": "python3"
  },
  "language_info": {
   "codemirror_mode": {
    "name": "ipython",
    "version": 3
   },
   "file_extension": ".py",
   "mimetype": "text/x-python",
   "name": "python",
   "nbconvert_exporter": "python",
   "pygments_lexer": "ipython3",
   "version": "3.5.5"
  }
 },
 "nbformat": 4,
 "nbformat_minor": 2
}
